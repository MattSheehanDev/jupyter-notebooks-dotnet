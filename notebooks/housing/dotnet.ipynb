{
 "cells": [
  {
   "cell_type": "code",
   "execution_count": 1,
   "metadata": {},
   "source": [
    "#r \"nuget:Microsoft.ML,1.5.1\"\n",
    "#r \"nuget:Microsoft.ML.AutoML,0.17.1\"\n",
    "#r \"nuget:Microsoft.Data.Analysis,0.4.0\"\n",
    "#r \"nuget:CsvHelper,16.0.0\""
   ],
   "outputs": [
    {
     "output_type": "execute_result",
     "data": {
      "text/plain": "Installed package CsvHelper version 16.0.0"
     },
     "execution_count": 1,
     "metadata": {}
    },
    {
     "output_type": "execute_result",
     "data": {
      "text/plain": "Installed package Microsoft.ML.AutoML version 0.17.1"
     },
     "execution_count": 1,
     "metadata": {}
    },
    {
     "output_type": "execute_result",
     "data": {
      "text/plain": "Installed package Microsoft.Data.Analysis version 0.4.0"
     },
     "execution_count": 1,
     "metadata": {}
    },
    {
     "output_type": "execute_result",
     "data": {
      "text/plain": "Installed package Microsoft.ML version 1.5.1"
     },
     "execution_count": 1,
     "metadata": {}
    }
   ]
  },
  {
   "cell_type": "code",
   "execution_count": 1,
   "metadata": {},
   "source": [
    "using Microsoft.Data.Analysis;\n",
    "using XPlot.Plotly;"
   ],
   "outputs": []
  },
  {
   "cell_type": "markdown",
   "metadata": {},
   "source": [
    "Add a formatter for `DataFrame` objects so that we can print the output as an html table."
   ]
  },
  {
   "cell_type": "code",
   "execution_count": 1,
   "metadata": {},
   "source": [
    "using Microsoft.AspNetCore.Html;\n",
    "\n",
    "Formatter.Register<DataFrame>((df, writer) =>\n",
    "{\n",
    "    var headers = new List<IHtmlContent>();\n",
    "    headers.Add(th(i(\"index\")));\n",
    "    headers.AddRange(df.Columns.Select(c => (IHtmlContent) th(c.Name)));\n",
    "    var rows = new List<List<IHtmlContent>>();\n",
    "    var take = 20;\n",
    "    for (var i = 0; i < Math.Min(take, df.Rows.Count); i++)\n",
    "    {\n",
    "        var cells = new List<IHtmlContent>();\n",
    "        cells.Add(td(i));\n",
    "        foreach (var obj in df.Rows[i])\n",
    "        {\n",
    "            cells.Add(td(obj));\n",
    "        }\n",
    "        rows.Add(cells);\n",
    "    }\n",
    "    \n",
    "    var t = table(\n",
    "        thead(\n",
    "            headers),\n",
    "        tbody(\n",
    "            rows.Select(\n",
    "                r => tr(r))));\n",
    "    \n",
    "    writer.Write(t);\n",
    "}, \"text/html\");"
   ],
   "outputs": []
  },
  {
   "cell_type": "code",
   "execution_count": 1,
   "metadata": {},
   "source": [
    "using System.IO;\n",
    "using System.Data;\n",
    "using System.Globalization;\n",
    "using CsvHelper;\n",
    "using CsvHelper.Configuration;\n",
    "\n",
    "static void NormalizeCSV(string inFile, string outFile)\n",
    "{\n",
    "    var culture = CultureInfo.InvariantCulture;\n",
    "\n",
    "    using var reader = new StreamReader(inFile);\n",
    "    using var csvIn = new CsvReader(reader, culture);\n",
    "    using var recordsIn = new CsvDataReader(csvIn);\n",
    "    using var writer = new StreamWriter(outFile);\n",
    "    using var csvOut = new CsvWriter(writer, culture);    \n",
    "\n",
    "    //change this strategy if you prefer to just delete the commas\n",
    "    static string Sanitise(string s) => s.Replace(\",\", \"_\");\n",
    "\n",
    "    var dataReader = new CsvDataReader(csvIn);\n",
    "    var dt = new DataTable();\n",
    "    dt.Load(dataReader);\n",
    "\n",
    "    foreach (DataColumn col in dt.Columns)\n",
    "    {\n",
    "        csvOut.WriteField(col.ColumnName);\n",
    "    }\n",
    "    csvOut.NextRecord();\n",
    "\n",
    "    foreach (DataRow row in dt.Rows)\n",
    "    {\n",
    "        for (var i = 0; i < dt.Columns.Count; i++)\n",
    "        {\n",
    "            csvOut.WriteField(Sanitise(row[i].ToString()));\n",
    "        }\n",
    "\n",
    "        csvOut.NextRecord();\n",
    "    }\n",
    "}"
   ],
   "outputs": []
  },
  {
   "cell_type": "markdown",
   "metadata": {},
   "source": [
    "Read in the Housing Price Index CSV."
   ]
  },
  {
   "cell_type": "code",
   "execution_count": 1,
   "metadata": {},
   "source": [
    "var housingDF = DataFrame.LoadCsv(\"HPI_master.csv\", separator: ',', header: true);"
   ],
   "outputs": []
  },
  {
   "cell_type": "code",
   "execution_count": 1,
   "metadata": {},
   "source": [
    "housingDF = housingDF.Filter(housingDF.Columns[\"frequency\"].ElementwiseEquals(\"quarterly\"));\n",
    "housingDF = housingDF.Filter(housingDF.Columns[\"place_name\"].ElementwiseEquals(\"Ohio\"));\n",
    "housingDF = housingDF.Filter(housingDF.Columns[\"hpi_type\"].ElementwiseEquals(\"traditional\"));\n",
    "housingDF = housingDF.Filter(housingDF.Columns[\"hpi_flavor\"].ElementwiseEquals(\"all-transactions\"));\n",
    "\n",
    "\n",
    "housingDF.Columns.Add(new StringDataFrameColumn(\"yr_period\", housingDF.Rows.Count()));\n",
    "\n",
    "for (var i = 0; i < housingDF.Rows.Count(); i++)\n",
    "{\n",
    "    var yr = housingDF.Columns[\"yr\"][i].ToString();\n",
    "    var period = housingDF.Columns[\"period\"][i].ToString();\n",
    "\n",
    "    housingDF.Columns[\"yr_period\"][i] = DateTime.Parse(yr + \"-\" + period).ToString(\"yyyy-MM\");\n",
    "}\n",
    "\n",
    "housingDF"
   ],
   "outputs": [
    {
     "output_type": "execute_result",
     "data": {
      "text/html": "<table><thead><th><i>index</i></th><th>hpi_type</th><th>hpi_flavor</th><th>frequency</th><th>level</th><th>place_name</th><th>place_id</th><th>yr</th><th>period</th><th>index_nsa</th><th>index_sa</th><th>yr_period</th></thead><tbody><tr><td><div class=\"dni-plaintext\">0</div></td><td>traditional</td><td>all-transactions</td><td>quarterly</td><td>State</td><td>Ohio</td><td>OH</td><td><div class=\"dni-plaintext\">1975</div></td><td><div class=\"dni-plaintext\">1</div></td><td><div class=\"dni-plaintext\">65.08</div></td><td><div class=\"dni-plaintext\">&lt;null&gt;</div></td><td>1975-01</td></tr><tr><td><div class=\"dni-plaintext\">1</div></td><td>traditional</td><td>all-transactions</td><td>quarterly</td><td>State</td><td>Ohio</td><td>OH</td><td><div class=\"dni-plaintext\">1975</div></td><td><div class=\"dni-plaintext\">2</div></td><td><div class=\"dni-plaintext\">64.74</div></td><td><div class=\"dni-plaintext\">&lt;null&gt;</div></td><td>1975-02</td></tr><tr><td><div class=\"dni-plaintext\">2</div></td><td>traditional</td><td>all-transactions</td><td>quarterly</td><td>State</td><td>Ohio</td><td>OH</td><td><div class=\"dni-plaintext\">1975</div></td><td><div class=\"dni-plaintext\">3</div></td><td><div class=\"dni-plaintext\">64.34</div></td><td><div class=\"dni-plaintext\">&lt;null&gt;</div></td><td>1975-03</td></tr><tr><td><div class=\"dni-plaintext\">3</div></td><td>traditional</td><td>all-transactions</td><td>quarterly</td><td>State</td><td>Ohio</td><td>OH</td><td><div class=\"dni-plaintext\">1975</div></td><td><div class=\"dni-plaintext\">4</div></td><td><div class=\"dni-plaintext\">65.77</div></td><td><div class=\"dni-plaintext\">&lt;null&gt;</div></td><td>1975-04</td></tr><tr><td><div class=\"dni-plaintext\">4</div></td><td>traditional</td><td>all-transactions</td><td>quarterly</td><td>State</td><td>Ohio</td><td>OH</td><td><div class=\"dni-plaintext\">1976</div></td><td><div class=\"dni-plaintext\">1</div></td><td><div class=\"dni-plaintext\">66.38</div></td><td><div class=\"dni-plaintext\">&lt;null&gt;</div></td><td>1976-01</td></tr><tr><td><div class=\"dni-plaintext\">5</div></td><td>traditional</td><td>all-transactions</td><td>quarterly</td><td>State</td><td>Ohio</td><td>OH</td><td><div class=\"dni-plaintext\">1976</div></td><td><div class=\"dni-plaintext\">2</div></td><td><div class=\"dni-plaintext\">68.66</div></td><td><div class=\"dni-plaintext\">&lt;null&gt;</div></td><td>1976-02</td></tr><tr><td><div class=\"dni-plaintext\">6</div></td><td>traditional</td><td>all-transactions</td><td>quarterly</td><td>State</td><td>Ohio</td><td>OH</td><td><div class=\"dni-plaintext\">1976</div></td><td><div class=\"dni-plaintext\">3</div></td><td><div class=\"dni-plaintext\">71.11</div></td><td><div class=\"dni-plaintext\">&lt;null&gt;</div></td><td>1976-03</td></tr><tr><td><div class=\"dni-plaintext\">7</div></td><td>traditional</td><td>all-transactions</td><td>quarterly</td><td>State</td><td>Ohio</td><td>OH</td><td><div class=\"dni-plaintext\">1976</div></td><td><div class=\"dni-plaintext\">4</div></td><td><div class=\"dni-plaintext\">72.4</div></td><td><div class=\"dni-plaintext\">&lt;null&gt;</div></td><td>1976-04</td></tr><tr><td><div class=\"dni-plaintext\">8</div></td><td>traditional</td><td>all-transactions</td><td>quarterly</td><td>State</td><td>Ohio</td><td>OH</td><td><div class=\"dni-plaintext\">1977</div></td><td><div class=\"dni-plaintext\">1</div></td><td><div class=\"dni-plaintext\">73.2</div></td><td><div class=\"dni-plaintext\">&lt;null&gt;</div></td><td>1977-01</td></tr><tr><td><div class=\"dni-plaintext\">9</div></td><td>traditional</td><td>all-transactions</td><td>quarterly</td><td>State</td><td>Ohio</td><td>OH</td><td><div class=\"dni-plaintext\">1977</div></td><td><div class=\"dni-plaintext\">2</div></td><td><div class=\"dni-plaintext\">75.11</div></td><td><div class=\"dni-plaintext\">&lt;null&gt;</div></td><td>1977-02</td></tr><tr><td><div class=\"dni-plaintext\">10</div></td><td>traditional</td><td>all-transactions</td><td>quarterly</td><td>State</td><td>Ohio</td><td>OH</td><td><div class=\"dni-plaintext\">1977</div></td><td><div class=\"dni-plaintext\">3</div></td><td><div class=\"dni-plaintext\">78.76</div></td><td><div class=\"dni-plaintext\">&lt;null&gt;</div></td><td>1977-03</td></tr><tr><td><div class=\"dni-plaintext\">11</div></td><td>traditional</td><td>all-transactions</td><td>quarterly</td><td>State</td><td>Ohio</td><td>OH</td><td><div class=\"dni-plaintext\">1977</div></td><td><div class=\"dni-plaintext\">4</div></td><td><div class=\"dni-plaintext\">81.09</div></td><td><div class=\"dni-plaintext\">&lt;null&gt;</div></td><td>1977-04</td></tr><tr><td><div class=\"dni-plaintext\">12</div></td><td>traditional</td><td>all-transactions</td><td>quarterly</td><td>State</td><td>Ohio</td><td>OH</td><td><div class=\"dni-plaintext\">1978</div></td><td><div class=\"dni-plaintext\">1</div></td><td><div class=\"dni-plaintext\">83.17</div></td><td><div class=\"dni-plaintext\">&lt;null&gt;</div></td><td>1978-01</td></tr><tr><td><div class=\"dni-plaintext\">13</div></td><td>traditional</td><td>all-transactions</td><td>quarterly</td><td>State</td><td>Ohio</td><td>OH</td><td><div class=\"dni-plaintext\">1978</div></td><td><div class=\"dni-plaintext\">2</div></td><td><div class=\"dni-plaintext\">86.25</div></td><td><div class=\"dni-plaintext\">&lt;null&gt;</div></td><td>1978-02</td></tr><tr><td><div class=\"dni-plaintext\">14</div></td><td>traditional</td><td>all-transactions</td><td>quarterly</td><td>State</td><td>Ohio</td><td>OH</td><td><div class=\"dni-plaintext\">1978</div></td><td><div class=\"dni-plaintext\">3</div></td><td><div class=\"dni-plaintext\">88.9</div></td><td><div class=\"dni-plaintext\">&lt;null&gt;</div></td><td>1978-03</td></tr><tr><td><div class=\"dni-plaintext\">15</div></td><td>traditional</td><td>all-transactions</td><td>quarterly</td><td>State</td><td>Ohio</td><td>OH</td><td><div class=\"dni-plaintext\">1978</div></td><td><div class=\"dni-plaintext\">4</div></td><td><div class=\"dni-plaintext\">91.29</div></td><td><div class=\"dni-plaintext\">&lt;null&gt;</div></td><td>1978-04</td></tr><tr><td><div class=\"dni-plaintext\">16</div></td><td>traditional</td><td>all-transactions</td><td>quarterly</td><td>State</td><td>Ohio</td><td>OH</td><td><div class=\"dni-plaintext\">1979</div></td><td><div class=\"dni-plaintext\">1</div></td><td><div class=\"dni-plaintext\">95.54</div></td><td><div class=\"dni-plaintext\">&lt;null&gt;</div></td><td>1979-01</td></tr><tr><td><div class=\"dni-plaintext\">17</div></td><td>traditional</td><td>all-transactions</td><td>quarterly</td><td>State</td><td>Ohio</td><td>OH</td><td><div class=\"dni-plaintext\">1979</div></td><td><div class=\"dni-plaintext\">2</div></td><td><div class=\"dni-plaintext\">98.34</div></td><td><div class=\"dni-plaintext\">&lt;null&gt;</div></td><td>1979-02</td></tr><tr><td><div class=\"dni-plaintext\">18</div></td><td>traditional</td><td>all-transactions</td><td>quarterly</td><td>State</td><td>Ohio</td><td>OH</td><td><div class=\"dni-plaintext\">1979</div></td><td><div class=\"dni-plaintext\">3</div></td><td><div class=\"dni-plaintext\">99.16</div></td><td><div class=\"dni-plaintext\">&lt;null&gt;</div></td><td>1979-03</td></tr><tr><td><div class=\"dni-plaintext\">19</div></td><td>traditional</td><td>all-transactions</td><td>quarterly</td><td>State</td><td>Ohio</td><td>OH</td><td><div class=\"dni-plaintext\">1979</div></td><td><div class=\"dni-plaintext\">4</div></td><td><div class=\"dni-plaintext\">100.74</div></td><td><div class=\"dni-plaintext\">&lt;null&gt;</div></td><td>1979-04</td></tr></tbody></table>"
     },
     "execution_count": 1,
     "metadata": {}
    }
   ]
  },
  {
   "cell_type": "markdown",
   "metadata": {},
   "source": [
    "Graph the final data."
   ]
  },
  {
   "cell_type": "code",
   "execution_count": 1,
   "metadata": {},
   "source": [
    "var h = new Graph.Scatter()\n",
    "{\n",
    "    x = housingDF.Columns[\"yr_period\"],\n",
    "    y = housingDF.Columns[\"index_nsa\"],\n",
    "    mode = \"lines\"\n",
    "};\n",
    "var chart = Chart.Plot(h);\n",
    "chart.WithLabels(new [] {\"Ohio\" });\n",
    "chart.WithLegend(true);\n",
    "chart.WithYTitle(\"Housing Cost\");\n",
    "\n",
    "display(chart);"
   ],
   "outputs": [
    {
     "output_type": "execute_result",
     "data": {
      "text/html": "<div id=\"58b72e26-3fcf-472d-abe0-2122b13f4a86\" style=\"width: 900px; height: 500px;\"></div>\r\n<script type=\"text/javascript\">\r\n\r\nvar renderPlotly = function() {\r\n    var xplotRequire = require.config({context:'xplot-3.0.1',paths:{plotly:'https://cdn.plot.ly/plotly-1.49.2.min'}}) || require;\r\n    xplotRequire(['plotly'], function(Plotly) {\r\n\n            var data = [{\"type\":\"scatter\",\"x\":[\"1975-01\",\"1975-02\",\"1975-03\",\"1975-04\",\"1976-01\",\"1976-02\",\"1976-03\",\"1976-04\",\"1977-01\",\"1977-02\",\"1977-03\",\"1977-04\",\"1978-01\",\"1978-02\",\"1978-03\",\"1978-04\",\"1979-01\",\"1979-02\",\"1979-03\",\"1979-04\",\"1980-01\",\"1980-02\",\"1980-03\",\"1980-04\",\"1981-01\",\"1981-02\",\"1981-03\",\"1981-04\",\"1982-01\",\"1982-02\",\"1982-03\",\"1982-04\",\"1983-01\",\"1983-02\",\"1983-03\",\"1983-04\",\"1984-01\",\"1984-02\",\"1984-03\",\"1984-04\",\"1985-01\",\"1985-02\",\"1985-03\",\"1985-04\",\"1986-01\",\"1986-02\",\"1986-03\",\"1986-04\",\"1987-01\",\"1987-02\",\"1987-03\",\"1987-04\",\"1988-01\",\"1988-02\",\"1988-03\",\"1988-04\",\"1989-01\",\"1989-02\",\"1989-03\",\"1989-04\",\"1990-01\",\"1990-02\",\"1990-03\",\"1990-04\",\"1991-01\",\"1991-02\",\"1991-03\",\"1991-04\",\"1992-01\",\"1992-02\",\"1992-03\",\"1992-04\",\"1993-01\",\"1993-02\",\"1993-03\",\"1993-04\",\"1994-01\",\"1994-02\",\"1994-03\",\"1994-04\",\"1995-01\",\"1995-02\",\"1995-03\",\"1995-04\",\"1996-01\",\"1996-02\",\"1996-03\",\"1996-04\",\"1997-01\",\"1997-02\",\"1997-03\",\"1997-04\",\"1998-01\",\"1998-02\",\"1998-03\",\"1998-04\",\"1999-01\",\"1999-02\",\"1999-03\",\"1999-04\",\"2000-01\",\"2000-02\",\"2000-03\",\"2000-04\",\"2001-01\",\"2001-02\",\"2001-03\",\"2001-04\",\"2002-01\",\"2002-02\",\"2002-03\",\"2002-04\",\"2003-01\",\"2003-02\",\"2003-03\",\"2003-04\",\"2004-01\",\"2004-02\",\"2004-03\",\"2004-04\",\"2005-01\",\"2005-02\",\"2005-03\",\"2005-04\",\"2006-01\",\"2006-02\",\"2006-03\",\"2006-04\",\"2007-01\",\"2007-02\",\"2007-03\",\"2007-04\",\"2008-01\",\"2008-02\",\"2008-03\",\"2008-04\",\"2009-01\",\"2009-02\",\"2009-03\",\"2009-04\",\"2010-01\",\"2010-02\",\"2010-03\",\"2010-04\",\"2011-01\",\"2011-02\",\"2011-03\",\"2011-04\",\"2012-01\",\"2012-02\",\"2012-03\",\"2012-04\",\"2013-01\",\"2013-02\",\"2013-03\",\"2013-04\",\"2014-01\",\"2014-02\",\"2014-03\",\"2014-04\",\"2015-01\",\"2015-02\",\"2015-03\",\"2015-04\",\"2016-01\",\"2016-02\",\"2016-03\",\"2016-04\",\"2017-01\",\"2017-02\",\"2017-03\",\"2017-04\",\"2018-01\",\"2018-02\",\"2018-03\",\"2018-04\",\"2019-01\",\"2019-02\",\"2019-03\",\"2019-04\",\"2020-01\",\"2020-02\"],\"y\":[65.08,64.74,64.34,65.77,66.38,68.66,71.11,72.4,73.2,75.11,78.76,81.09,83.17,86.25,88.9,91.29,95.54,98.34,99.16,100.74,100.0,99.6,101.98,103.39,103.14,103.66,103.2,101.63,101.08,98.31,101.97,103.28,102.68,105.39,106.12,105.62,106.03,107.2,107.24,107.45,108.12,109.32,110.61,111.49,112.99,114.49,116.34,117.88,120.1,122.54,124.97,126.2,128.33,131.07,132.23,133.47,135.05,136.43,139.33,140.32,141.86,143.18,145.19,145.5,147.15,149.21,150.22,152.45,154.13,155.15,157.29,158.84,159.57,161.41,163.34,165.29,167.2,169.96,170.92,172.44,173.36,176.68,179.76,182.0,184.63,186.34,187.68,189.56,192.07,193.57,196.26,198.67,201.04,202.91,205.41,207.62,209.8,211.61,212.3,213.63,215.88,218.49,221.1,223.99,228.25,230.63,232.78,234.69,236.69,238.29,240.65,242.23,244.0,245.77,247.79,251.18,252.68,254.25,257.12,259.85,262.16,264.24,266.74,267.13,267.15,266.06,265.45,266.54,266.68,265.06,262.17,262.12,263.33,259.33,252.87,253.41,257.99,252.14,247.08,246.66,243.9,242.05,245.29,244.24,236.82,233.24,236.21,236.9,234.04,232.94,235.16,234.6,233.56,234.31,235.46,235.3,235.72,240.94,243.43,244.68,246.01,250.12,252.82,253.56,254.76,259.13,264.68,264.5,265.88,274.1,277.85,278.68,282.57,289.18,294.12,294.99,298.09,304.72,309.09,312.05,315.72,318.31],\"mode\":\"lines\",\"name\":\"Ohio\"}];\n            var layout = {\"showlegend\":true,\"yaxis\":{\"title\":\"Housing Cost\",\"_isSubplotObj\":true}};\n            Plotly.newPlot('58b72e26-3fcf-472d-abe0-2122b13f4a86', data, layout);\n        \r\n});\r\n};\r\n// ensure `require` is available globally\r\nif ((typeof(require) !==  typeof(Function)) || (typeof(require.config) !== typeof(Function))) {\r\n    let require_script = document.createElement('script');\r\n    require_script.setAttribute('src', 'https://cdnjs.cloudflare.com/ajax/libs/require.js/2.3.6/require.min.js');\r\n    require_script.setAttribute('type', 'text/javascript');\r\n    \r\n    \r\n    require_script.onload = function() {\r\n        renderPlotly();\r\n    };\r\n\r\n    document.getElementsByTagName('head')[0].appendChild(require_script);\r\n}\r\nelse {\r\n    renderPlotly();\r\n}\r\n\r\n</script>\r\n"
     },
     "execution_count": 1,
     "metadata": {}
    }
   ]
  }
 ],
 "metadata": {
  "kernelspec": {
   "display_name": ".NET (C#)",
   "language": "C#",
   "name": ".net-csharp"
  },
  "language_info": {
   "file_extension": ".cs",
   "mimetype": "text/x-csharp",
   "name": "C#",
   "pygments_lexer": "csharp",
   "version": "8.0"
  }
 },
 "nbformat": 4,
 "nbformat_minor": 4
}