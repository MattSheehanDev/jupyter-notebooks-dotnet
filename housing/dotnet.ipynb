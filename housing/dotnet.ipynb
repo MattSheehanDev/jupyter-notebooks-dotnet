{
 "cells": [
  {
   "cell_type": "code",
   "execution_count": 1,
   "metadata": {},
   "source": [
    "#r \"nuget:Microsoft.ML,1.5.1\"\n",
    "#r \"nuget:Microsoft.ML.AutoML,0.17.1\"\n",
    "#r \"nuget:Microsoft.Data.Analysis,0.4.0\"\n",
    "#r \"nuget:CsvHelper,16.0.0\""
   ],
   "outputs": [
    {
     "output_type": "execute_result",
     "data": {
      "text/plain": "Installed package CsvHelper version 16.0.0"
     },
     "execution_count": 1,
     "metadata": {}
    },
    {
     "output_type": "execute_result",
     "data": {
      "text/plain": "Installed package Microsoft.ML version 1.5.1"
     },
     "execution_count": 1,
     "metadata": {}
    },
    {
     "output_type": "execute_result",
     "data": {
      "text/plain": "Installed package Microsoft.ML.AutoML version 0.17.1"
     },
     "execution_count": 1,
     "metadata": {}
    },
    {
     "output_type": "execute_result",
     "data": {
      "text/plain": "Installed package Microsoft.Data.Analysis version 0.4.0"
     },
     "execution_count": 1,
     "metadata": {}
    }
   ]
  },
  {
   "cell_type": "code",
   "execution_count": 1,
   "metadata": {},
   "source": [
    "using Microsoft.Data.Analysis;\n",
    "using XPlot.Plotly;"
   ],
   "outputs": []
  },
  {
   "cell_type": "markdown",
   "metadata": {},
   "source": [
    "Add a formatter for `DataFrame` objects so that we can print the output as an html table."
   ]
  },
  {
   "cell_type": "code",
   "execution_count": 1,
   "metadata": {},
   "source": [
    "using Microsoft.AspNetCore.Html;\n",
    "\n",
    "Formatter.Register<DataFrame>((df, writer) =>\n",
    "{\n",
    "    var headers = new List<IHtmlContent>();\n",
    "    headers.Add(th(i(\"index\")));\n",
    "    headers.AddRange(df.Columns.Select(c => (IHtmlContent) th(c.Name)));\n",
    "    var rows = new List<List<IHtmlContent>>();\n",
    "    var take = 20;\n",
    "    for (var i = 0; i < Math.Min(take, df.Rows.Count); i++)\n",
    "    {\n",
    "        var cells = new List<IHtmlContent>();\n",
    "        cells.Add(td(i));\n",
    "        foreach (var obj in df.Rows[i])\n",
    "        {\n",
    "            cells.Add(td(obj));\n",
    "        }\n",
    "        rows.Add(cells);\n",
    "    }\n",
    "    \n",
    "    var t = table(\n",
    "        thead(\n",
    "            headers),\n",
    "        tbody(\n",
    "            rows.Select(\n",
    "                r => tr(r))));\n",
    "    \n",
    "    writer.Write(t);\n",
    "}, \"text/html\");"
   ],
   "outputs": []
  },
  {
   "cell_type": "code",
   "execution_count": 1,
   "metadata": {},
   "source": [
    "using System.IO;\n",
    "using System.Data;\n",
    "using System.Globalization;\n",
    "using CsvHelper;\n",
    "using CsvHelper.Configuration;\n",
    "\n",
    "static void NormalizeCSV(string inFile, string outFile)\n",
    "{\n",
    "    var culture = CultureInfo.InvariantCulture;\n",
    "\n",
    "    using var reader = new StreamReader(inFile);\n",
    "    using var csvIn = new CsvReader(reader, culture);\n",
    "    using var recordsIn = new CsvDataReader(csvIn);\n",
    "    using var writer = new StreamWriter(outFile);\n",
    "    using var csvOut = new CsvWriter(writer, culture);    \n",
    "\n",
    "    //change this strategy if you prefer to just delete the commas\n",
    "    static string Sanitise(string s) => s.Replace(\",\", \"_\");\n",
    "\n",
    "    var dataReader = new CsvDataReader(csvIn);\n",
    "    var dt = new DataTable();\n",
    "    dt.Load(dataReader);\n",
    "\n",
    "    foreach (DataColumn col in dt.Columns)\n",
    "    {\n",
    "        csvOut.WriteField(col.ColumnName);\n",
    "    }\n",
    "    csvOut.NextRecord();\n",
    "\n",
    "    foreach (DataRow row in dt.Rows)\n",
    "    {\n",
    "        for (var i = 0; i < dt.Columns.Count; i++)\n",
    "        {\n",
    "            csvOut.WriteField(Sanitise(row[i].ToString()));\n",
    "        }\n",
    "\n",
    "        csvOut.NextRecord();\n",
    "    }\n",
    "}"
   ],
   "outputs": []
  },
  {
   "cell_type": "markdown",
   "metadata": {},
   "source": [
    "Read in the Housing Price Index CSV."
   ]
  },
  {
   "cell_type": "code",
   "execution_count": 1,
   "metadata": {},
   "source": [
    "var housingDF = DataFrame.LoadCsv(\"HPImaster.csv\", separator: ',', header: true);"
   ],
   "outputs": [
    {
     "output_type": "error",
     "ename": "Error",
     "evalue": "System.IO.FileNotFoundException: Could not find file 'c:\\Users\\matt.sheehan.APTERYX\\Projects\\Github\\jupyter-notebooks-dotnet\\housing\\HPImaster.csv'.\r\nFile name: 'c:\\Users\\matt.sheehan.APTERYX\\Projects\\Github\\jupyter-notebooks-dotnet\\housing\\HPImaster.csv'\r\n   at System.IO.FileStream.ValidateFileHandle(SafeFileHandle fileHandle)\r\n   at System.IO.FileStream.CreateFileOpenHandle(FileMode mode, FileShare share, FileOptions options)\r\n   at System.IO.FileStream..ctor(String path, FileMode mode, FileAccess access, FileShare share, Int32 bufferSize, FileOptions options)\r\n   at System.IO.FileStream..ctor(String path, FileMode mode)\r\n   at Microsoft.Data.Analysis.DataFrame.LoadCsv(String filename, Char separator, Boolean header, String[] columnNames, Type[] dataTypes, Int32 numRows, Int32 guessRows, Boolean addIndexColumn, Encoding encoding)\r\n   at Submission#10.<<Initialize>>d__0.MoveNext()\r\n--- End of stack trace from previous location where exception was thrown ---\r\n   at Microsoft.CodeAnalysis.Scripting.ScriptExecutionState.RunSubmissionsAsync[TResult](ImmutableArray`1 precedingExecutors, Func`2 currentExecutor, StrongBox`1 exceptionHolderOpt, Func`2 catchExceptionOpt, CancellationToken cancellationToken)",
     "traceback": []
    }
   ]
  },
  {
   "cell_type": "code",
   "execution_count": 1,
   "metadata": {},
   "source": [
    "housingDF = housingDF.Filter(housingDF.Columns[\"frequency\"].ElementwiseEquals(\"quarterly\"));\n",
    "housingDF = housingDF.Filter(housingDF.Columns[\"place_name\"].ElementwiseEquals(\"Ohio\"));\n",
    "housingDF = housingDF.Filter(housingDF.Columns[\"hpi_type\"].ElementwiseEquals(\"traditional\"));\n",
    "housingDF = housingDF.Filter(housingDF.Columns[\"hpi_flavor\"].ElementwiseEquals(\"all-transactions\"));\n",
    "\n",
    "\n",
    "housingDF.Columns.Add(new StringDataFrameColumn(\"yr_period\", housingDF.Rows.Count()));\n",
    "\n",
    "for (var i = 0; i < housingDF.Rows.Count(); i++)\n",
    "{\n",
    "    var yr = housingDF.Columns[\"yr\"][i].ToString();\n",
    "    var period = housingDF.Columns[\"period\"][i].ToString();\n",
    "\n",
    "    housingDF.Columns[\"yr_period\"][i] = DateTime.Parse(yr + \"-\" + period).ToString(\"yyyy-MM\");\n",
    "}\n",
    "\n",
    "housingDF"
   ],
   "outputs": [
    {
     "output_type": "error",
     "ename": "Error",
     "evalue": "System.NullReferenceException: Object reference not set to an instance of an object.\r\n   at Submission#11.<<Initialize>>d__0.MoveNext()\r\n--- End of stack trace from previous location where exception was thrown ---\r\n   at Microsoft.CodeAnalysis.Scripting.ScriptExecutionState.RunSubmissionsAsync[TResult](ImmutableArray`1 precedingExecutors, Func`2 currentExecutor, StrongBox`1 exceptionHolderOpt, Func`2 catchExceptionOpt, CancellationToken cancellationToken)",
     "traceback": []
    }
   ]
  },
  {
   "cell_type": "markdown",
   "metadata": {},
   "source": [
    "Graph the final data."
   ]
  },
  {
   "cell_type": "code",
   "execution_count": 1,
   "metadata": {},
   "source": [
    "var h = new Graph.Scatter()\n",
    "{\n",
    "    x = housingDF.Columns[\"yr_period\"],\n",
    "    y = housingDF.Columns[\"index_nsa\"],\n",
    "    mode = \"lines\"\n",
    "};\n",
    "var chart = Chart.Plot(h);\n",
    "chart.WithLabels(new [] {\"Ohio\" });\n",
    "chart.WithLegend(true);\n",
    "chart.WithYTitle(\"Housing Cost\");\n",
    "\n",
    "display(chart);"
   ],
   "outputs": [
    {
     "output_type": "error",
     "ename": "Error",
     "evalue": "System.NullReferenceException: Object reference not set to an instance of an object.\r\n   at Submission#12.<<Initialize>>d__0.MoveNext()\r\n--- End of stack trace from previous location where exception was thrown ---\r\n   at Microsoft.CodeAnalysis.Scripting.ScriptExecutionState.RunSubmissionsAsync[TResult](ImmutableArray`1 precedingExecutors, Func`2 currentExecutor, StrongBox`1 exceptionHolderOpt, Func`2 catchExceptionOpt, CancellationToken cancellationToken)",
     "traceback": []
    }
   ]
  }
 ],
 "metadata": {
  "kernelspec": {
   "display_name": ".NET (C#)",
   "language": "C#",
   "name": ".net-csharp"
  },
  "language_info": {
   "file_extension": ".cs",
   "mimetype": "text/x-csharp",
   "name": "C#",
   "pygments_lexer": "csharp",
   "version": "8.0"
  }
 },
 "nbformat": 4,
 "nbformat_minor": 4
}